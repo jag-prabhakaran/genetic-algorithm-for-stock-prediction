{
 "cells": [
  {
   "cell_type": "code",
   "execution_count": 70,
   "metadata": {},
   "outputs": [],
   "source": [
    "\n",
    "#https://github.com/ericbhanson/cashtag_analyzer|/blob/master/cashtag_analyzer/tweet_collector.py c\n",
    "#connecting to data base code\n",
    "import tweepy as tw\n",
    "import pandas as pd\n",
    "import datetime"
   ]
  },
  {
   "cell_type": "code",
   "execution_count": 71,
   "metadata": {},
   "outputs": [],
   "source": [
    "consumer_key='mF4MgflWQgKAzEto8SHgNWWO9'\n",
    "consumer_secret='eFmedDj6svNOSuSH6EsNEFDwa3J285qyIcZK3wx8WrnR26Rejp'\n",
    "access_token='734186230414381057-y3P2aBvC9Yc2wsspJvhU0H148yOGgMD'\n",
    "access_token_secret='7kSE3yZkUdgZikFzgBnTOFiqsHLUso928dfP1mPnACKzZ'\n",
    "auth = tw.OAuthHandler(consumer_key, consumer_secret)\n",
    "auth.set_access_token(access_token, access_token_secret)"
   ]
  },
  {
   "cell_type": "code",
   "execution_count": 84,
   "metadata": {},
   "outputs": [
    {
     "name": "stdout",
     "output_type": "stream",
     "text": [
      "                                                text                    date\n",
      "0  The Phantom of the Opera  Is here … inside you...  07-Nov-2020 (18:26:27)\n",
      "1  A New Banner is needed Neither hard left nor r...  06-Nov-2020 (10:36:02)\n",
      "2                    420 is ten times better than 42  06-Nov-2020 (06:10:41)\n"
     ]
    }
   ],
   "source": [
    "\n",
    "tweet_text=[]\n",
    "tweet_date=[]\n",
    "tweets = tw.Cursor(api.user_timeline,id='elonmusk',exclude_replies=True,search=\"-filter:retweets\").items(5)\n",
    "#change id to desired user.\n",
    "#items(5) specifies how many tweets you want to collect change\n",
    "#keep in mind there may be less tweets due to retweets being removed.\n",
    "for tweet in tweets:\n",
    "    if not tweet.retweeted and ('RT @' not in tweet.text):#removes retweets.\n",
    "        tweettext=tweet.text.replace(\"\\n\", \" \");#removes \\n from the string\n",
    "        tweet_text.append(tweettext)\n",
    "        tweet_date.append(tweet.created_at.strftime(\"%d-%b-%Y (%H:%M:%S)\"))#converts datatime object to a string\n",
    "        \n",
    "data={\"text\":tweet_text,\"date\":tweet_date}\n",
    "df=pd.DataFrame(data)\n",
    "print(df)\n",
    "#df.to_csv('name.csv') save as csv file change\n",
    "#change name to what you want to name the file\n",
    "#df.to_csv(r'Path where stored.csv')\n",
    "#saves to a specified path just change path where stored to desired path."
   ]
  },
  {
   "cell_type": "code",
   "execution_count": null,
   "metadata": {},
   "outputs": [],
   "source": []
  }
 ],
 "metadata": {
  "kernelspec": {
   "display_name": "Python 3",
   "language": "python",
   "name": "python3"
  },
  "language_info": {
   "codemirror_mode": {
    "name": "ipython",
    "version": 3
   },
   "file_extension": ".py",
   "mimetype": "text/x-python",
   "name": "python",
   "nbconvert_exporter": "python",
   "pygments_lexer": "ipython3",
   "version": "3.7.1"
  }
 },
 "nbformat": 4,
 "nbformat_minor": 4
}
